{
 "cells": [
  {
   "cell_type": "code",
   "execution_count": 1,
   "metadata": {},
   "outputs": [],
   "source": [
    "import numpy as np\n",
    "import pandas as pd\n",
    "import seaborn as sns\n",
    "import math\n",
    "from typing import Tuple\n",
    "from scipy.stats import mode\n",
    "from scipy.spatial.distance import pdist\n",
    "from sklearn.metrics import confusion_matrix\n",
    "\n",
    "\n",
    "csv_path = \"diabetes.csv\""
   ]
  },
  {
   "cell_type": "code",
   "execution_count": 2,
   "metadata": {},
   "outputs": [],
   "source": [
    "def load_csv(csv_path:str):\n",
    "    df = pd.read_csv(csv_path)\n",
    "    df = df.sample(frac=1, random_state=42).reset_index(drop=True)\n",
    "    x,y =  df.iloc[:, :-1],df.iloc[:,-1]\n",
    "    return x,y"
   ]
  },
  {
   "cell_type": "code",
   "execution_count": 3,
   "metadata": {},
   "outputs": [
    {
     "data": {
      "text/plain": [
       "(     Pregnancies  Glucose  BloodPressure  SkinThickness  Insulin   BMI  \\\n",
       " 0              6       98             58             33      190  34.0   \n",
       " 1              2      112             75             32        0  35.7   \n",
       " 2              2      108             64              0        0  30.8   \n",
       " 3              8      107             80              0        0  24.6   \n",
       " 4              7      136             90              0        0  29.9   \n",
       " ..           ...      ...            ...            ...      ...   ...   \n",
       " 763            5      139             64             35      140  28.6   \n",
       " 764            1       96            122              0        0  22.4   \n",
       " 765           10      101             86             37        0  45.6   \n",
       " 766            0      141              0              0        0  42.4   \n",
       " 767            0      125             96              0        0  22.5   \n",
       " \n",
       "      DiabetesPedigreeFunction  Age  \n",
       " 0                       0.430   43  \n",
       " 1                       0.148   21  \n",
       " 2                       0.158   21  \n",
       " 3                       0.856   34  \n",
       " 4                       0.210   50  \n",
       " ..                        ...  ...  \n",
       " 763                     0.411   26  \n",
       " 764                     0.207   27  \n",
       " 765                     1.136   38  \n",
       " 766                     0.205   29  \n",
       " 767                     0.262   21  \n",
       " \n",
       " [768 rows x 8 columns],\n",
       " 0      0\n",
       " 1      0\n",
       " 2      0\n",
       " 3      0\n",
       " 4      0\n",
       "       ..\n",
       " 763    0\n",
       " 764    0\n",
       " 765    1\n",
       " 766    1\n",
       " 767    0\n",
       " Name: Outcome, Length: 768, dtype: int64)"
      ]
     },
     "execution_count": 3,
     "metadata": {},
     "output_type": "execute_result"
    }
   ],
   "source": [
    "x,y = load_csv(csv_path)\n",
    "x,y"
   ]
  },
  {
   "cell_type": "code",
   "execution_count": 4,
   "metadata": {},
   "outputs": [
    {
     "data": {
      "text/plain": [
       "(Pregnancies                   3.845052\n",
       " Glucose                     120.894531\n",
       " BloodPressure                69.105469\n",
       " SkinThickness                20.536458\n",
       " Insulin                      79.799479\n",
       " BMI                          31.992578\n",
       " DiabetesPedigreeFunction      0.471876\n",
       " Age                          33.240885\n",
       " dtype: float64,\n",
       " Pregnancies                    11.339272\n",
       " Glucose                      1020.917262\n",
       " BloodPressure                 374.159449\n",
       " SkinThickness                 254.141900\n",
       " Insulin                     13263.886875\n",
       " BMI                            62.079046\n",
       " DiabetesPedigreeFunction        0.109636\n",
       " Age                           138.122964\n",
       " dtype: float64)"
      ]
     },
     "execution_count": 4,
     "metadata": {},
     "output_type": "execute_result"
    }
   ],
   "source": [
    "np.mean(x,axis=0),np.var(x,axis=0)"
   ]
  },
  {
   "cell_type": "code",
   "execution_count": 67,
   "metadata": {},
   "outputs": [
    {
     "data": {
      "text/plain": [
       "(array([  3.84505208, 120.89453125,  69.10546875,  20.53645833,\n",
       "         79.79947917,  31.99257812,   0.4718763 ,  33.24088542]),\n",
       " array([1.13392724e+01, 1.02091726e+03, 3.74159449e+02, 2.54141900e+02,\n",
       "        1.32638869e+04, 6.20790465e+01, 1.09635697e-01, 1.38122964e+02]))"
      ]
     },
     "execution_count": 67,
     "metadata": {},
     "output_type": "execute_result"
    }
   ],
   "source": [
    "np.nanmean(x,axis=0),np.nanvar(x,axis=0)"
   ]
  },
  {
   "cell_type": "code",
   "execution_count": 68,
   "metadata": {},
   "outputs": [
    {
     "data": {
      "text/plain": [
       "(768, 8)"
      ]
     },
     "execution_count": 68,
     "metadata": {},
     "output_type": "execute_result"
    }
   ],
   "source": [
    "x[np.isnan(x)] = 3.5\n",
    "x.shape"
   ]
  },
  {
   "cell_type": "code",
   "execution_count": 69,
   "metadata": {},
   "outputs": [
    {
     "data": {
      "text/plain": [
       "(Pregnancies                   3.845052\n",
       " Glucose                     120.894531\n",
       " BloodPressure                69.105469\n",
       " SkinThickness                20.536458\n",
       " Insulin                      79.799479\n",
       " BMI                          31.992578\n",
       " DiabetesPedigreeFunction      0.471876\n",
       " Age                          33.240885\n",
       " dtype: float64,\n",
       " Pregnancies                    11.339272\n",
       " Glucose                      1020.917262\n",
       " BloodPressure                 374.159449\n",
       " SkinThickness                 254.141900\n",
       " Insulin                     13263.886875\n",
       " BMI                            62.079046\n",
       " DiabetesPedigreeFunction        0.109636\n",
       " Age                           138.122964\n",
       " dtype: float64)"
      ]
     },
     "execution_count": 69,
     "metadata": {},
     "output_type": "execute_result"
    }
   ],
   "source": [
    "np.mean(x,axis=0),np.var(x,axis=0)"
   ]
  },
  {
   "cell_type": "code",
   "execution_count": 70,
   "metadata": {},
   "outputs": [
    {
     "data": {
      "text/plain": [
       "(Pregnancies                   4\n",
       " Glucose                     763\n",
       " BloodPressure               733\n",
       " SkinThickness               508\n",
       " Insulin                     394\n",
       " BMI                         757\n",
       " DiabetesPedigreeFunction      0\n",
       " Age                         768\n",
       " dtype: int64,\n",
       " Pregnancies                 0\n",
       " Glucose                     0\n",
       " BloodPressure               0\n",
       " SkinThickness               0\n",
       " Insulin                     0\n",
       " BMI                         0\n",
       " DiabetesPedigreeFunction    0\n",
       " Age                         0\n",
       " dtype: int64)"
      ]
     },
     "execution_count": 70,
     "metadata": {},
     "output_type": "execute_result"
    }
   ],
   "source": [
    "(x > 13.0).sum(), (x < 0.0).sum()"
   ]
  },
  {
   "cell_type": "code",
   "execution_count": null,
   "metadata": {},
   "outputs": [],
   "source": [
    "x[np.where(np.logical_or(x > 13.0,x < 0.0))]"
   ]
  },
  {
   "cell_type": "code",
   "execution_count": 6,
   "metadata": {},
   "outputs": [
    {
     "data": {
      "text/plain": [
       "((array([], dtype=int64), array([], dtype=int64)),\n",
       " (array([  0,   0,   0, ..., 767, 767, 767], dtype=int64),\n",
       "  array([1, 2, 3, ..., 2, 5, 7], dtype=int64)))"
      ]
     },
     "execution_count": 6,
     "metadata": {},
     "output_type": "execute_result"
    }
   ],
   "source": [
    "less_than = np.where(x < 0.0)\n",
    "higher_than = np.where(x > 13.0)\n",
    "less_than,higher_than"
   ]
  },
  {
   "cell_type": "code",
   "execution_count": null,
   "metadata": {},
   "outputs": [],
   "source": [
    "y = np.delete(y,np.where(x < 0.0)[0],axis=0)\n",
    "y = np.delete(y,np.where(x > 13.0)[0],axis=0)\n",
    "x = np.delete(x,np.where(x < 0.0)[0],axis=0)\n",
    "x = np.delete(x,np.where(x > 13.0)[0],axis=0)\n",
    "x.shape,y.shape"
   ]
  },
  {
   "attachments": {},
   "cell_type": "markdown",
   "metadata": {},
   "source": [
    "Train test split\n",
    "try optim"
   ]
  },
  {
   "cell_type": "code",
   "execution_count": 16,
   "metadata": {},
   "outputs": [],
   "source": [
    "def train_test_split(features:pd.DataFrame,\n",
    "                     labels:pd.Series,\n",
    "                     test_split_ratio:float) -> None:\n",
    "        \n",
    "    test_size = int(len(features) * test_split_ratio)\n",
    "    train_size = len(features) - test_size\n",
    "    assert len(features) == test_size + train_size, \"Size mismatch!\"\n",
    "\n",
    "    x_train,y_train = features.iloc[:train_size,:],labels.iloc[:train_size]\n",
    "    x_test,y_test = features.iloc[train_size:train_size+test_size,:], labels.iloc[train_size:train_size + test_size]\n",
    "    return (x_train.reset_index(drop=True),y_train.reset_index(drop=True),x_test.reset_index(drop=True),y_test.reset_index(drop=True))"
   ]
  },
  {
   "cell_type": "code",
   "execution_count": 17,
   "metadata": {},
   "outputs": [],
   "source": [
    "x_train, y_train, x_test, y_test = train_test_split(x, y, 0.2)"
   ]
  },
  {
   "attachments": {},
   "cell_type": "markdown",
   "metadata": {},
   "source": [
    "Distance"
   ]
  },
  {
   "cell_type": "code",
   "execution_count": 18,
   "metadata": {},
   "outputs": [],
   "source": [
    "def euclidean(points: pd.DataFrame, element_of_x: pd.Series) -> pd.Series:\n",
    "    return pd.np.sqrt(((points - element_of_x)**2).sum(axis=1))"
   ]
  },
  {
   "cell_type": "code",
   "execution_count": 19,
   "metadata": {},
   "outputs": [
    {
     "name": "stderr",
     "output_type": "stream",
     "text": [
      "C:\\Users\\ASUS\\AppData\\Local\\Temp\\ipykernel_3204\\291728741.py:2: FutureWarning: The pandas.np module is deprecated and will be removed from pandas in a future version. Import numpy directly instead.\n",
      "  return pd.np.sqrt(((points - element_of_x)**2).sum(axis=1))\n"
     ]
    },
    {
     "data": {
      "text/plain": [
       "0      195.794581\n",
       "1       52.922332\n",
       "2       42.098231\n",
       "3       33.526730\n",
       "4       62.845547\n",
       "          ...    \n",
       "610     67.537045\n",
       "611     38.977620\n",
       "612     43.646649\n",
       "613     57.508695\n",
       "614     93.675214\n",
       "Length: 615, dtype: float64"
      ]
     },
     "execution_count": 19,
     "metadata": {},
     "output_type": "execute_result"
    }
   ],
   "source": [
    "euclidean(x_train, x_test.iloc[0])"
   ]
  },
  {
   "attachments": {},
   "cell_type": "markdown",
   "metadata": {},
   "source": [
    "Predict func"
   ]
  },
  {
   "cell_type": "code",
   "execution_count": 20,
   "metadata": {},
   "outputs": [],
   "source": [
    "def predict(x_train:pd.DataFrame,y_train:pd.DataFrame,x_test:pd.DataFrame,k:int) -> pd.DataFrame:\n",
    "    labels_pred = []\n",
    "    for idx, x_test_element in x_test.iterrows():\n",
    "        distances = euclidean(x_train,x_test_element)\n",
    "        distances = pd.DataFrame({'distances': distances, 'labels': y_train})\n",
    "        distances.sort_values(by='distances', inplace=True)\n",
    "        label_pred = mode(distances.iloc[:k,1],axis=0).mode[0]\n",
    "        labels_pred.append(label_pred)\n",
    "    return pd.Series(labels_pred)"
   ]
  },
  {
   "cell_type": "code",
   "execution_count": 22,
   "metadata": {},
   "outputs": [
    {
     "name": "stderr",
     "output_type": "stream",
     "text": [
      "C:\\Users\\ASUS\\AppData\\Local\\Temp\\ipykernel_3204\\291728741.py:2: FutureWarning: The pandas.np module is deprecated and will be removed from pandas in a future version. Import numpy directly instead.\n",
      "  return pd.np.sqrt(((points - element_of_x)**2).sum(axis=1))\n",
      "C:\\Users\\ASUS\\AppData\\Local\\Temp\\ipykernel_3204\\584228027.py:7: FutureWarning: Unlike other reduction functions (e.g. `skew`, `kurtosis`), the default behavior of `mode` typically preserves the axis it acts along. In SciPy 1.11.0, this behavior will change: the default value of `keepdims` will become False, the `axis` over which the statistic is taken will be eliminated, and the value None will no longer be accepted. Set `keepdims` to True or False to avoid this warning.\n",
      "  label_pred = mode(distances.iloc[:k,1],axis=0).mode[0]\n"
     ]
    },
    {
     "data": {
      "text/plain": [
       "0      0\n",
       "1      0\n",
       "2      0\n",
       "3      1\n",
       "4      0\n",
       "      ..\n",
       "148    0\n",
       "149    0\n",
       "150    1\n",
       "151    1\n",
       "152    0\n",
       "Name: Outcome, Length: 153, dtype: int64"
      ]
     },
     "execution_count": 22,
     "metadata": {},
     "output_type": "execute_result"
    }
   ],
   "source": [
    "y_preds = predict(x_train, y_train, x_test, 2)\n",
    "#y_test.reset_index(drop=True)\n",
    "y_test"
   ]
  },
  {
   "attachments": {},
   "cell_type": "markdown",
   "metadata": {},
   "source": [
    "Metrics"
   ]
  },
  {
   "cell_type": "code",
   "execution_count": 24,
   "metadata": {},
   "outputs": [],
   "source": [
    "def accuracy(y_test:pd.Series,y_preds:pd.Series) -> float:\n",
    "    true_positive = (y_test == y_preds).sum()\n",
    "    return true_positive / len(y_test) * 100"
   ]
  },
  {
   "cell_type": "code",
   "execution_count": 25,
   "metadata": {},
   "outputs": [
    {
     "data": {
      "text/plain": [
       "67.97385620915033"
      ]
     },
     "execution_count": 25,
     "metadata": {},
     "output_type": "execute_result"
    }
   ],
   "source": [
    "accuracy(y_test, y_preds)"
   ]
  },
  {
   "cell_type": "code",
   "execution_count": 27,
   "metadata": {},
   "outputs": [],
   "source": [
    "def plot_confusion_matrix(y_test:np.ndarray,y_preds:np.ndarray):\n",
    "        return confusion_matrix(y_test,y_preds)"
   ]
  },
  {
   "cell_type": "code",
   "execution_count": 28,
   "metadata": {},
   "outputs": [
    {
     "data": {
      "text/plain": [
       "<AxesSubplot:>"
      ]
     },
     "execution_count": 28,
     "metadata": {},
     "output_type": "execute_result"
    },
    {
     "data": {
      "image/png": "[encoded data removed]",
      "text/plain": [
       "<Figure size 640x480 with 2 Axes>"
      ]
     },
     "metadata": {},
     "output_type": "display_data"
    }
   ],
   "source": [
    "matrix = plot_confusion_matrix(y_test, y_preds)\n",
    "sns.heatmap(matrix,annot=True) "
   ]
  }
 ],
 "metadata": {
  "kernelspec": {
   "display_name": "Python 3",
   "language": "python",
   "name": "python3"
  },
  "language_info": {
   "codemirror_mode": {
    "name": "ipython",
    "version": 3
   },
   "file_extension": ".py",
   "mimetype": "text/x-python",
   "name": "python",
   "nbconvert_exporter": "python",
   "pygments_lexer": "ipython3",
   "version": "3.10.4"
  },
  "orig_nbformat": 4
 },
 "nbformat": 4,
 "nbformat_minor": 2
}
