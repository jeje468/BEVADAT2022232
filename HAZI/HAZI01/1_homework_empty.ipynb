{
 "cells": [
  {
   "cell_type": "code",
   "execution_count": null,
   "metadata": {},
   "outputs": [],
   "source": [
    "#Készíts egy függvényt ami paraméterként egy listát vár és visszatér ennek a listának egy rész listájával.\n",
    "#Paraméterként lehessen megadni, hogy mettől-meddig akarjuk visszakapni a listát.\n",
    "#Egy példa a bemenetre: input_list=[1,2,3,4,5], start=1, end=4\n",
    "#Egy példa a kimenetre: [2,3,4]\n",
    "#NOTE: ha indexelünk és 4-et adunk meg felső határnak akkor csak a 3. indexig kapjuk vissza az értékeket a 4. már nem lesz benne\n",
    "#NOTE: és ez az elvárt viselkedés ebben a feladatban is\n",
    "#return type: list\n",
    "#függvény neve legyen: subset"
   ]
  },
  {
   "cell_type": "code",
   "execution_count": 4,
   "metadata": {},
   "outputs": [
    {
     "name": "stdout",
     "output_type": "stream",
     "text": [
      "[2, 3, 4]\n"
     ]
    }
   ],
   "source": [
    "def subset(input_list, start_index, end_index):\n",
    "    return input_list[start_index:end_index]"
   ]
  },
  {
   "cell_type": "code",
   "execution_count": null,
   "metadata": {},
   "outputs": [],
   "source": [
    "#Készíts egy függvényt ami egy listát vár paraméterként és ennek a listának minden n-edik elemét adja vissza.\n",
    "#Paraméterként lehessen állítani azt hogy hanyadik elemeket szeretnénk viszakapni.\n",
    "#NOTE: a 0. elem is legyen benne\n",
    "#Egy példa a bemenetre: input_list=[1,2,3,4,5,6,7,8,9], n=3\n",
    "#Egy példa a kimenetre: [1,4,7]\n",
    "#return type: list\n",
    "#függvény neve legyen: every_nth"
   ]
  },
  {
   "cell_type": "code",
   "execution_count": 5,
   "metadata": {},
   "outputs": [
    {
     "name": "stdout",
     "output_type": "stream",
     "text": [
      "[1, 4, 7]\n"
     ]
    }
   ],
   "source": [
    "def every_nth(input_list, step_size):\n",
    "    return input_list[::step_size]"
   ]
  },
  {
   "cell_type": "code",
   "execution_count": null,
   "metadata": {},
   "outputs": [],
   "source": [
    "#Készíts egy függvényt ami paraméterként egy listát vár és eldönti, hogy a listában csak egyedi értékek vannak-e\n",
    "#Egy bool-al térjen vissza: True:csak egyedi értékek vannak benne, False:van benne ismétlődés\n",
    "#Egy példa a bemenetre: [1,2,3,4,5,6,7]\n",
    "#Egy példa a kimenetre: True\n",
    "#return type: bool\n",
    "#függvény neve legyen: unique"
   ]
  },
  {
   "cell_type": "code",
   "execution_count": 12,
   "metadata": {},
   "outputs": [
    {
     "name": "stdout",
     "output_type": "stream",
     "text": [
      "False\n"
     ]
    }
   ],
   "source": [
    "def unique(input_list):\n",
    "    input_set = set(input_list)\n",
    "\n",
    "    return len(input_set) == len(input_list)"
   ]
  },
  {
   "cell_type": "code",
   "execution_count": null,
   "metadata": {},
   "outputs": [],
   "source": [
    "#Készíts egy függvényt ami paraméterként egy 2 dimenziós listát vár és ezt a listát kitudja \"lapítani\"\n",
    "#Egy olyan listával térjen vissza amelyben nincsen több kisebb lista, azaz egy egy dimenziós listával.\n",
    "#Egy példa a bemenetre: [[1,2],[3,4],[5,6]]\n",
    "#Egy példa a kimenetre: [1,2,3,4,5,6]\n",
    "#NOTE: csak 2 dimenziós listát kezeljen nem kell ennél mélyebbet\n",
    "#return type: list\n",
    "#függvény neve legyen: flatten"
   ]
  },
  {
   "cell_type": "code",
   "execution_count": 6,
   "metadata": {},
   "outputs": [
    {
     "name": "stdout",
     "output_type": "stream",
     "text": [
      "[1, 2, 3, 4, 5, 6]\n"
     ]
    }
   ],
   "source": [
    "def flatten(input_list):\n",
    "    return [num for sublist in input_list for num in sublist]"
   ]
  },
  {
   "cell_type": "code",
   "execution_count": null,
   "metadata": {},
   "outputs": [],
   "source": [
    "#Készíts egy függvényt ami paraméterként n darab listát vár, és összfűzi ezeket a listákat.\n",
    "#Egy olya listával térjen vissza ami 1 dimenziós és tartalmazza az össze bemeneti lista kértékét\n",
    "#NOTE: sorrend nem számít\n",
    "#HINT: használj *args-ot az input paraméternél\n",
    "#Egy példa a bemenetre: lista_1 = [1,2,3], lista_2 = [4,5,6], ..... lista_n = [7,8,9]\n",
    "#Egy példa a kimenetre: [1,2,3,4,5,6,7,8,9]\n",
    "#return type: list\n",
    "#függvény neve legyen: merge_lists"
   ]
  },
  {
   "cell_type": "code",
   "execution_count": 17,
   "metadata": {},
   "outputs": [
    {
     "name": "stdout",
     "output_type": "stream",
     "text": [
      "[1, 2, 3, 4, 5, 6, 7, 8, 9]\n"
     ]
    }
   ],
   "source": [
    "def merge_lists(*args):\n",
    "    result = []\n",
    "\n",
    "    for arg in args:\n",
    "        result.extend(arg)\n",
    "    \n",
    "    return result"
   ]
  },
  {
   "cell_type": "code",
   "execution_count": null,
   "metadata": {},
   "outputs": [],
   "source": [
    "#Készíts egy függvényt ami paraméterként egy listát vár amiben 2 elemet tartalmazó tuple-ök vannak,\n",
    "#és visszatér ezeknek a tuple-nek a fordítottjával.\n",
    "#Egy példa a bemenetre: [(1,2),(3,4)]\n",
    "#Egy példa a kimenetre: [(2,1),(4,3)] \n",
    "#return type: list\n",
    "#függvény neve legyen: reverse_tuples"
   ]
  },
  {
   "cell_type": "code",
   "execution_count": 18,
   "metadata": {},
   "outputs": [
    {
     "name": "stdout",
     "output_type": "stream",
     "text": [
      "[(2, 1), (4, 3), (6, 5)]\n"
     ]
    }
   ],
   "source": [
    "def reverse_tuples(input_list):\n",
    "    result = []\n",
    "\n",
    "    for tup in input_list:\n",
    "        result.append(tup[::-1])\n",
    "\n",
    "    return result"
   ]
  },
  {
   "cell_type": "code",
   "execution_count": null,
   "metadata": {},
   "outputs": [],
   "source": [
    "#Készíts egy függvényt ami paraméterként egy listát vár, és eltávolítja az ismétlődéseket a listából.\n",
    "#Egy olyan listával térjen vissza amiben csak a bemeneti lista egyedi értékei vannak benne.\n",
    "#Egy példa a bemenetre: [1,2,3,3,4,5]\n",
    "#Egy példa a kimenetre: [1,2,3,4,5]\n",
    "#return type: list\n",
    "#függvény neve legyen: remove_duplicates"
   ]
  },
  {
   "cell_type": "code",
   "execution_count": 7,
   "metadata": {},
   "outputs": [
    {
     "name": "stdout",
     "output_type": "stream",
     "text": [
      "[1, 2, 3, 4, 5]\n"
     ]
    }
   ],
   "source": [
    "def remove_duplicates(input_list):\n",
    "    return list(set(input_list))"
   ]
  },
  {
   "cell_type": "code",
   "execution_count": 4,
   "metadata": {},
   "outputs": [],
   "source": [
    "#Készíts egy olyan függvényt ami paraméterként egy 2 dimenziós mátrixot vár és visszater a mátrix transzponáltjával.\n",
    "#Egy példa a bemenetre: [[1,2,3],\n",
    "#                        [4,5,6],\n",
    "#                        [7,8,9]]\n",
    "#\n",
    "#Egy példa a kimenetre: [[1,4,7],\n",
    "#                        [2,5,8],\n",
    "#                        [3,6,9]]\n",
    "#return type: list\n",
    "#függvény neve legyen: transpose"
   ]
  },
  {
   "cell_type": "code",
   "execution_count": 24,
   "metadata": {},
   "outputs": [
    {
     "name": "stdout",
     "output_type": "stream",
     "text": [
      "[[0, 3, 6, 9], [1, 4, 7, 10], [2, 5, 8, 11]]\n"
     ]
    }
   ],
   "source": [
    "def transpose(input_list):\n",
    "    result = []\n",
    "\n",
    "    for j in range(0, len(input_list[0])):\n",
    "        column = []\n",
    "        for i in range(0, len(input_list)):\n",
    "            column.append(input_list[i][j])\n",
    "        result.append(column)\n",
    "    \n",
    "    return result\n"
   ]
  },
  {
   "cell_type": "code",
   "execution_count": null,
   "metadata": {},
   "outputs": [],
   "source": [
    "#Készíts egy függvényt ami paraméterként egy listát vár és visszatér a lista csoportosított változatával.\n",
    "#Egy olyan listával térjen vissza amiben a paraméterként átadott chunk_size méretű listák vannak.\n",
    "#Egy példa a bemenetre: [1,2,3,4,5,6,7,8]\n",
    "#Egy példa a kimenetre: [[1,2,3],[4,5,6],[7,8]]\n",
    "#NOTE: ha nem mindegyik lista elemet lehet chunk_size méretű listába tenni akkor a maradékot a példában látott módon kezeljétek\n",
    "#return type: list\n",
    "#függvény neve legyen: split_into_chunks"
   ]
  },
  {
   "cell_type": "code",
   "execution_count": 3,
   "metadata": {},
   "outputs": [
    {
     "name": "stdout",
     "output_type": "stream",
     "text": [
      "[[1, 2, 3], [4, 5, 6], [7, 8]]\n"
     ]
    }
   ],
   "source": [
    "def split_into_chunks(input_list, chunk_size):\n",
    "    result = []\n",
    "    for i in range(0, len(input_list), chunk_size):\n",
    "        result.append(input_list[i:i + chunk_size])\n",
    "    \n",
    "    return result"
   ]
  },
  {
   "cell_type": "code",
   "execution_count": null,
   "metadata": {},
   "outputs": [],
   "source": [
    "#Készíts egy függvényt ami paraméterként n darab dictionary-t vár és visszatér egy darab dictionary-vel.\n",
    "#Egy olyan dict-el térjen vissza miben az n darab bemeneti dict értékei benne vannak.\n",
    "#Egy példa a bemenetre: dict_1: {\"one\":1,\"two\":2}, dict_2: {\"four\":4,\"three\":3}\n",
    "#Egy példa a kimenetre: {\"one\":1,\"two\":2,\"four\":4,\"three\":3}\n",
    "#HINT: használj *args-ot\n",
    "#függvény neve legyen: merge_dicts"
   ]
  },
  {
   "cell_type": "code",
   "execution_count": 21,
   "metadata": {},
   "outputs": [
    {
     "name": "stdout",
     "output_type": "stream",
     "text": [
      "{'India': 'Delhi', 'Canada': 'Ottawa', 'United States': 'Washington D. C.', 'France': 'Paris', 'Malaysia': 'Kuala Lumpur'}\n"
     ]
    }
   ],
   "source": [
    "def merge_dicts(*dict):\n",
    "    result = {}\n",
    "\n",
    "    for d in dict:\n",
    "        result.update(d)\n",
    "    \n",
    "    return result"
   ]
  },
  {
   "cell_type": "code",
   "execution_count": null,
   "metadata": {},
   "outputs": [],
   "source": [
    "#Készíts egy függvényt ami paraméterként egy listát vár amiben egész számok vannak és visszatér egy dict-el amiben szét vannak szedve paritás szerint.\n",
    "#Egy példa a bemenetre: [1,2,3,4,5,6]\n",
    "#Egy példa a kimenetre: {\"event\":[2,4,6],\"odd\":[1,3,5]}\n",
    "#return type: dict\n",
    "#függvény neve legyen: by_parity"
   ]
  },
  {
   "cell_type": "code",
   "execution_count": 22,
   "metadata": {},
   "outputs": [
    {
     "name": "stdout",
     "output_type": "stream",
     "text": [
      "{'even': [2, 2, 4], 'odd': [3, 5]}\n"
     ]
    }
   ],
   "source": [
    "def by_parity(input_list):\n",
    "    result = {\"even\" : [], \"odd\" : []}\n",
    "\n",
    "    for num in input_list:\n",
    "        if num % 2 == 0:\n",
    "            result[\"even\"].append(num)\n",
    "        else:\n",
    "            result[\"odd\"].append(num)\n",
    "    \n",
    "    return result"
   ]
  },
  {
   "cell_type": "code",
   "execution_count": null,
   "metadata": {},
   "outputs": [],
   "source": [
    "#Készíts egy függvényt ami paraméterként egy dict-et vár és visszatér egy dict-el amiben az egyes kulcsokhoz tartozó értékek átlaga van.\n",
    "#Egy példa a bemenetre:{\"some_key\":[1,2,3,4],\"another_key\":[1,2,3,4]}\n",
    "#Egy példa a kimenetre: {\"some_key\":2.5,\"another_key\":2.5}\n",
    "#return type: dict\n",
    "#függvény neve legyen: mean_key_value"
   ]
  },
  {
   "cell_type": "code",
   "execution_count": 23,
   "metadata": {},
   "outputs": [
    {
     "name": "stdout",
     "output_type": "stream",
     "text": [
      "{'even': 5.0, 'odd': 5.0}\n"
     ]
    }
   ],
   "source": [
    "def mean_key_value(input_dict):\n",
    "    result = input_dict.copy()\n",
    "\n",
    "    for key, value in input_dict.items():\n",
    "        result[key] = sum(value) / len(value)\n",
    "    \n",
    "    return result"
   ]
  },
  {
   "cell_type": "code",
   "execution_count": null,
   "metadata": {},
   "outputs": [],
   "source": [
    "#Ha végeztél a feladatokkal akkor ezt a jupytert alakítsd át egy .py file-ra \n",
    "#ha vscode-ban dolgozol: https://stackoverflow.com/questions/64297272/best-way-to-convert-ipynb-to-py-in-vscode\n",
    "#ha jupyter lab-ban dolgozol: https://stackoverflow.com/questions/52885901/how-to-save-python-script-as-py-file-on-jupyter-notebook"
   ]
  }
 ],
 "metadata": {
  "kernelspec": {
   "display_name": "Python 3",
   "language": "python",
   "name": "python3"
  },
  "language_info": {
   "codemirror_mode": {
    "name": "ipython",
    "version": 3
   },
   "file_extension": ".py",
   "mimetype": "text/x-python",
   "name": "python",
   "nbconvert_exporter": "python",
   "pygments_lexer": "ipython3",
   "version": "3.10.4"
  },
  "orig_nbformat": 4,
  "vscode": {
   "interpreter": {
    "hash": "27f6fea6f47ae512550f0b8facdbd035a93e1dd89633f7bf2dd00a2502c71d0d"
   }
  }
 },
 "nbformat": 4,
 "nbformat_minor": 2
}
