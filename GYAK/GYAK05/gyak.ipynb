{
 "cells": [
  {
   "cell_type": "code",
   "execution_count": 234,
   "metadata": {},
   "outputs": [],
   "source": [
    "import numpy as np\n",
    "from scipy.stats import mode\n",
    "from typing import Tuple\n",
    "from sklearn.metrics import confusion_matrix\n",
    "import seaborn as sns\n",
    "\n",
    "csv_path = \"iris.csv\""
   ]
  },
  {
   "cell_type": "code",
   "execution_count": 235,
   "metadata": {},
   "outputs": [],
   "source": [
    "def load_csv(csv_path: str) -> Tuple[np.ndarray, np.ndarray]:\n",
    "    np.random.seed(42)\n",
    "    dataset = np.genfromtxt(csv_path, delimiter=',')\n",
    "    #Data split miatt össze kell keverni az adatokat (Lesz amivel tanítunk, lesz amivel tesztelünk)\n",
    "    np.random.shuffle(dataset)\n",
    "    #Bemeneti paraméterek, és várt érték (label) szétválasztása\n",
    "    x,y = dataset[:,:-1], dataset[:,-1]\n",
    "    return x,y"
   ]
  },
  {
   "cell_type": "code",
   "execution_count": 236,
   "metadata": {},
   "outputs": [],
   "source": [
    "x, y = load_csv(csv_path)"
   ]
  },
  {
   "cell_type": "code",
   "execution_count": 237,
   "metadata": {},
   "outputs": [
    {
     "data": {
      "text/plain": [
       "(array([nan, nan, nan, nan]), array([nan, nan, nan, nan]))"
      ]
     },
     "execution_count": 237,
     "metadata": {},
     "output_type": "execute_result"
    }
   ],
   "source": [
    "#Átlag, szórás\n",
    "np.mean(x, axis=0), np.var(x, axis=0)"
   ]
  },
  {
   "cell_type": "code",
   "execution_count": 238,
   "metadata": {},
   "outputs": [
    {
     "data": {
      "text/plain": [
       "(array([ 355.46503497, -280.09189189,    2.95      ,   21.74726027]),\n",
       " array([1.73561968e+07, 1.18405444e+07, 1.51049922e+04, 6.11729208e+04]))"
      ]
     },
     "execution_count": 238,
     "metadata": {},
     "output_type": "execute_result"
    }
   ],
   "source": [
    "np.nanmean(x, axis=0), np.nanvar(x, axis=0)"
   ]
  },
  {
   "cell_type": "code",
   "execution_count": 239,
   "metadata": {},
   "outputs": [],
   "source": [
    "#Nan-ok eltávolítása\n",
    "x[np.isnan(x)] = 3.5"
   ]
  },
  {
   "cell_type": "code",
   "execution_count": 240,
   "metadata": {},
   "outputs": [
    {
     "data": {
      "text/plain": [
       "(4, 2)"
      ]
     },
     "execution_count": 240,
     "metadata": {},
     "output_type": "execute_result"
    }
   ],
   "source": [
    "#Kiugró értékek eltávolítása\n",
    "(x > 10.0).sum(), (x < 0.0).sum()"
   ]
  },
  {
   "cell_type": "code",
   "execution_count": 241,
   "metadata": {},
   "outputs": [
    {
     "data": {
      "text/plain": [
       "array([ -1111.,    100.,   1000.,  50000.,   3000., -42000.])"
      ]
     },
     "execution_count": 241,
     "metadata": {},
     "output_type": "execute_result"
    }
   ],
   "source": [
    "x[np.where(np.logical_or(x > 10.0, x < 0.0))]"
   ]
  },
  {
   "cell_type": "code",
   "execution_count": 242,
   "metadata": {},
   "outputs": [
    {
     "data": {
      "text/plain": [
       "((array([  4, 140]), array([2, 1])),\n",
       " (array([14, 27, 28, 62]), array([1, 2, 0, 3])))"
      ]
     },
     "execution_count": 242,
     "metadata": {},
     "output_type": "execute_result"
    }
   ],
   "source": [
    "less_than = np.where(x < 0.0)\n",
    "higher_than = np.where(x > 10.0)\n",
    "less_than, higher_than"
   ]
  },
  {
   "cell_type": "code",
   "execution_count": 243,
   "metadata": {},
   "outputs": [
    {
     "data": {
      "text/plain": [
       "((144, 4), (144,))"
      ]
     },
     "execution_count": 243,
     "metadata": {},
     "output_type": "execute_result"
    }
   ],
   "source": [
    "y = np.delete(y, np.where(x < 0.0)[0], axis=0) #csak a sorokat akarjuk kitörölni\n",
    "y = np.delete(y, np.where(x > 10.0)[0], axis=0)\n",
    "x = np.delete(x, np.where(x < 0.0)[0], axis=0)\n",
    "x = np.delete(x, np.where(x > 10.0)[0], axis=0)\n",
    "x.shape, y.shape"
   ]
  },
  {
   "attachments": {},
   "cell_type": "markdown",
   "metadata": {},
   "source": [
    "Train test split"
   ]
  },
  {
   "cell_type": "code",
   "execution_count": 244,
   "metadata": {},
   "outputs": [],
   "source": [
    "def train_test_split(features: np.ndarray, labels: np.ndarray, test_split_ratio: float):\n",
    "    test_size = int(len(features) * test_split_ratio)\n",
    "    train_size = len(features) - test_size\n",
    "    assert len(features) == test_size + train_size, \"Size mismatch\"\n",
    "\n",
    "    x_train, y_train = features[:train_size,:], labels[:train_size]\n",
    "    x_test, y_test = features[train_size:,:], labels[train_size:]\n",
    "    \n",
    "    return(x_train, y_train, x_test, y_test)"
   ]
  },
  {
   "cell_type": "code",
   "execution_count": 245,
   "metadata": {},
   "outputs": [],
   "source": [
    "x_train, y_train, x_test, y_test = train_test_split(x, y, 0.2)"
   ]
  },
  {
   "cell_type": "code",
   "execution_count": 246,
   "metadata": {},
   "outputs": [],
   "source": [
    "def euclidean(points:np.ndarray, element_of_x:np.ndarray) -> np.ndarray:\n",
    "    return np.sqrt(np.sum((points - element_of_x)**2, axis=1))"
   ]
  },
  {
   "cell_type": "code",
   "execution_count": 247,
   "metadata": {},
   "outputs": [],
   "source": [
    "def predict(x_train: np.ndarray, y_train: np.ndarray, k:int):\n",
    "    labels_pred = []\n",
    "    for x_test_element in x_test:\n",
    "        distances = euclidean(x_train, x_test_element)\n",
    "        distances = np.array(sorted(zip(distances, y_train)))\n",
    "        labels_pred = mode(distances[:k, 1], keepdims=False).mode\n",
    "        labels_pred.append(labels_pred)\n",
    "    return np.array(labels_pred, dtype=np.int64)"
   ]
  },
  {
   "cell_type": "code",
   "execution_count": null,
   "metadata": {},
   "outputs": [],
   "source": []
  },
  {
   "cell_type": "code",
   "execution_count": 248,
   "metadata": {},
   "outputs": [],
   "source": [
    "def accuracy(y_test: np.ndarray, y_preds: np.ndarray) -> float:\n",
    "    true_positive = (y_test == y_preds).sum()\n",
    "    return true_positive / len(y_test) * 100"
   ]
  },
  {
   "cell_type": "code",
   "execution_count": null,
   "metadata": {},
   "outputs": [],
   "source": [
    "def plot_confusion_matric(y_test:np.ndarray, y_preds:np.ndarray) -> None:\n",
    "    conf_matrix = confusion_matrix(y_test, y_preds)\n",
    "    sns.heatmap(conf_matrix, annot=True)"
   ]
  }
 ],
 "metadata": {
  "kernelspec": {
   "display_name": "Python 3",
   "language": "python",
   "name": "python3"
  },
  "language_info": {
   "codemirror_mode": {
    "name": "ipython",
    "version": 3
   },
   "file_extension": ".py",
   "mimetype": "text/x-python",
   "name": "python",
   "nbconvert_exporter": "python",
   "pygments_lexer": "ipython3",
   "version": "3.10.5"
  },
  "orig_nbformat": 4
 },
 "nbformat": 4,
 "nbformat_minor": 2
}
