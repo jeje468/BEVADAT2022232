{
 "cells": [
  {
   "cell_type": "code",
   "execution_count": 21,
   "metadata": {},
   "outputs": [],
   "source": [
    "#Készíts egy olyan függvényt ami paraméterként egy listát vár amiben egész számok vannak, \n",
    "#és el kell döntenie,hogy van-e benne páratlan szám. A visszatérésí érték egy bool legyen (True:van benne,False:nincs benne)\n",
    "#Egy példa a bemenetre: [1,2,3,4,4,5]\n",
    "#Egy példa a kimenetre: True\n",
    "#return type: bool\n",
    "#függvény neve legyen: contains_odd\n"
   ]
  },
  {
   "cell_type": "code",
   "execution_count": 33,
   "metadata": {},
   "outputs": [],
   "source": [
    "def contains_odd(input_list):\n",
    "    for num in input_list:\n",
    "        if num % 2 != 0:\n",
    "            return True\n",
    "    \n",
    "    return False"
   ]
  },
  {
   "cell_type": "code",
   "execution_count": 27,
   "metadata": {},
   "outputs": [],
   "source": [
    "#Készíts egy függvényt ami paraméterként egy listát vár amiben egész számok vannak,\n",
    "#és eldönti minden eleméről, hogy páratlan-e. A kimenet egy lista legyen amiben True/False értékek vannak.\n",
    "#Egy példa a bemenetre: [1,2,3,4,5]\n",
    "#Egy példa a kimenetre: [True,False,True,False,True]\n",
    "#return type: list\n",
    "#függvény neve legyen: is_odd\n"
   ]
  },
  {
   "cell_type": "code",
   "execution_count": 28,
   "metadata": {},
   "outputs": [
    {
     "name": "stdout",
     "output_type": "stream",
     "text": [
      "[True, False, False, False]\n"
     ]
    }
   ],
   "source": [
    "def is_odd(input_list):\n",
    "    result = []\n",
    "    for num in input_list:\n",
    "        result.append(num % 2 != 0)\n",
    "\n",
    "    return result"
   ]
  },
  {
   "cell_type": "code",
   "execution_count": 29,
   "metadata": {},
   "outputs": [],
   "source": [
    "#Készíts egy függvényt ami paraméterként 2 db listát vár, és kiszámolja a listák elemenként vett összegét.\n",
    "#A függvény egy listával térjen vissza amiben a megfelelő indexen lévő lista_1 és lista_2 elemek összege van.\n",
    "#Egy példa a bemenetekre: input_list_1:[1,2,3,4], input_list_2:[1,2,3,4]\n",
    "#Egy példa a kimenetre: [2,3,4,8]\n",
    "#return type: list\n",
    "#függvény neve legyen: element_wise_sum\n"
   ]
  },
  {
   "cell_type": "code",
   "execution_count": 2,
   "metadata": {},
   "outputs": [
    {
     "name": "stdout",
     "output_type": "stream",
     "text": [
      "[2, 4, 6, 8]\n"
     ]
    }
   ],
   "source": [
    "def element_wise_sum(input_list_1, input_list_2):\n",
    "    result = []\n",
    "    index = min(len(input_list_1), len(input_list_2))\n",
    "    for i in range(0, index):\n",
    "        result.append(input_list_1[i] + input_list_2[i])\n",
    "    \n",
    "    for i in range(index, len(input_list_1)):\n",
    "        result.append(input_list_1[i])\n",
    "\n",
    "    for i in range(index, len(input_list_2)):\n",
    "        result.append(input_list_2[i])\n",
    "    \n",
    "    return result"
   ]
  },
  {
   "cell_type": "code",
   "execution_count": 30,
   "metadata": {},
   "outputs": [],
   "source": [
    "#Készíts egy függvényt ami paraméterként egy dictionary-t vár és egy listával tér vissza\n",
    "#amiben a kulcs:érték párok egy Tuple-ben vannak.\n",
    "#Egy példa a bemenetere: {\"egy\":1,\"ketto\":2,\"harom\":3}\n",
    "#Egy példa a kimenetre: [(\"egy\",1),(\"ketto\",2),(\"harom\",3)]\n",
    "#return type: list\n",
    "#függvény nevel egyen: dict_to_list\n"
   ]
  },
  {
   "cell_type": "code",
   "execution_count": 39,
   "metadata": {},
   "outputs": [
    {
     "name": "stdout",
     "output_type": "stream",
     "text": [
      "[('color', 'blue'), ('fruit', 'apple'), ('pet', 'dog')]\n"
     ]
    }
   ],
   "source": [
    "def dict_to_list(input_dict):\n",
    "    result = []\n",
    "    for items in input_dict.items():\n",
    "        result.append(items)\n",
    "    \n",
    "    return result"
   ]
  },
  {
   "cell_type": "code",
   "execution_count": 31,
   "metadata": {},
   "outputs": [],
   "source": [
    "#Ha végeztél a feladatokkal akkor ezt a jupytert alakítsd át egy .py file-ra \n",
    "#ha vscode-ban dolgozol: https://stackoverflow.com/questions/64297272/best-way-to-convert-ipynb-to-py-in-vscode\n",
    "#ha jupyter lab-ban dolgozol: https://stackoverflow.com/questions/52885901/how-to-save-python-script-as-py-file-on-jupyter-notebook"
   ]
  }
 ],
 "metadata": {
  "kernelspec": {
   "display_name": "Python 3",
   "language": "python",
   "name": "python3"
  },
  "language_info": {
   "codemirror_mode": {
    "name": "ipython",
    "version": 3
   },
   "file_extension": ".py",
   "mimetype": "text/x-python",
   "name": "python",
   "nbconvert_exporter": "python",
   "pygments_lexer": "ipython3",
   "version": "3.10.4"
  },
  "orig_nbformat": 4,
  "vscode": {
   "interpreter": {
    "hash": "27f6fea6f47ae512550f0b8facdbd035a93e1dd89633f7bf2dd00a2502c71d0d"
   }
  }
 },
 "nbformat": 4,
 "nbformat_minor": 2
}
